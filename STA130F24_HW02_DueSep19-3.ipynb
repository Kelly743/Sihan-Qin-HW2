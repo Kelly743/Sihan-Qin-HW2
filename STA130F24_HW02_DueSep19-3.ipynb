{
 "cells": [
  {
   "cell_type": "markdown",
   "id": "14b74968",
   "metadata": {},
   "source": [
    "## STA130 Homework 02\n",
    "\n",
    "Please see the course [wiki-textbook](https://github.com/pointOfive/stat130chat130/wiki) for the list of topics covered in this homework assignment, and a list of topics that might appear during ChatBot conversations which are \"out of scope\" for the purposes of this homework assignment (and hence can be safely ignored if encountered)"
   ]
  },
  {
   "cell_type": "markdown",
   "id": "f014006ff8809433",
   "metadata": {},
   "source": [
    "<details class=\"details-example\"><summary style=\"color:blue\"><u>Introduction</u></summary>\n",
    "\n",
    "### Introduction\n",
    "    \n",
    "A reasonable characterization of STA130 Homework is that it simply defines a weekly reading comprehension assignment. \n",
    "Indeed, STA130 Homework essentially boils down to completing various understanding confirmation exercises oriented around coding and writing tasks.\n",
    "However, rather than reading a textbook, STA130 Homework is based on ChatBots so students can interactively follow up to clarify questions or confusion that they may still have regarding learning objective assignments.\n",
    "\n",
    "> Communication is a fundamental skill underlying statistics and data science, so STA130 Homework based on ChatBots helps practice effective two-way communication as part of a \"realistic\" dialogue activity supporting underlying conceptual understanding building. \n",
    "\n",
    "It will likely become increasingly tempting to rely on ChatBots to \"do the work for you\". But when you find yourself frustrated with a ChatBots inability to give you the results you're looking for, this is a \"hint\" that you've become overreliant on the ChatBots. Your objective should not be to have ChatBots \"do the work for you\", but to use ChatBots to help you build your understanding so you can efficiently leverage ChatBots (and other resources) to help you work more efficiently.<br><br>\n",
    "\n",
    "</details>\n",
    "\n",
    "<details class=\"details-example\"><summary style=\"color:blue\"><u>Instructions</u></summary>\n",
    "\n",
    "### Instructions\n",
    "    \n",
    "1. Code and write all your answers (for both the \"Prelecture\" and \"Postlecture\" HW) in a python notebook (in code and markdown cells) \n",
    "    \n",
    "> It is *suggested but not mandatory* that you complete the \"Prelecture\" HW prior to the Monday LEC since (a) all HW is due at the same time; but, (b) completing some of the HW early will mean better readiness for LEC and less of a \"procrastentation cruch\" towards the end of the week...\n",
    "    \n",
    "2. Paste summaries of your ChatBot sessions (including link(s) to chat log histories if you're using ChatGPT) within your notebook\n",
    "    \n",
    "> Create summaries of your ChatBot sessions by using concluding prompts such as \"Please provide a summary of our exchanges here so I can submit them as a record of our interactions as part of a homework assignment\" or, \"Please provide me with the final working verson of the code that we created together\"\n",
    "    \n",
    "3. Save your python jupyter notebook in your own account and \"repo\" on [github.com](github.com) and submit a link to that notebook though Quercus for assignment marking<br><br>\n",
    "\n",
    "</details>\n",
    "\n",
    "<details class=\"details-example\"><summary style=\"color:blue\"><u>Prompt Engineering?</u></summary>\n",
    "    \n",
    "### Prompt Engineering? \n",
    "    \n",
    "The questions (as copy-pasted prompts) are designed to initialize appropriate ChatBot conversations which can be explored in the manner of an interactive and dynamic textbook; but, it is nonetheless **strongly recommendated** that your rephrase the questions in a way that you find natural to ensure a clear understanding of the question. Given sensible prompts the represent a question well, the two primary challenges observed to arise from ChatBots are \n",
    "\n",
    "1. conversations going beyond the intended scope of the material addressed by the question; and, \n",
    "2. unrecoverable confusion as a result of sequential layers logial inquiry that cannot be resolved. \n",
    "\n",
    "In the case of the former (1), adding constraints specifying the limits of considerations of interest tends to be helpful; whereas, the latter (2) is often the result of initial prompting that leads to poor developments in navigating the material, which are likely just best resolve by a \"hard reset\" with a new initial approach to prompting.  Indeed, this is exactly the behavior [hardcoded into copilot](https://answers.microsoft.com/en-us/bing/forum/all/is-this-even-normal/0b6dcab3-7d6c-4373-8efe-d74158af3c00)...\n",
    "\n",
    "</details>"
   ]
  },
  {
   "cell_type": "markdown",
   "id": "161fd459",
   "metadata": {},
   "source": [
    "\n",
    "### Marking Rubric (which may award partial credit) \n",
    "\n",
    "- [0.1 points]: All relevant ChatBot summaries [including link(s) to chat log histories if you're using ChatGPT] are reported within the notebook\n",
    "- [0.3 points]: Assignment completion confirmed by working \"final\" code and ChatBot summaries for \"3\"\n",
    "- [0.3 points]: Written submission evaluation and enagement confirmation with ChatBot summaries for \"6\"\n",
    "- [0.3 points]: Evaluation of engagement and evaluation of written communication in \"7\"\n",
    "        "
   ]
  },
  {
   "cell_type": "markdown",
   "id": "08de9518",
   "metadata": {},
   "source": [
    "### \"Pre-lecture\" HW [*completion prior to next LEC is suggested but not mandatory*]"
   ]
  },
  {
   "cell_type": "markdown",
   "id": "35b7ff01",
   "metadata": {},
   "source": [
    "#### 1. Begin (or restart) part \"3(a)\" of the **TUT Demo** and interact with a ChatBot to make sure you understand how each part the Monte Hall problem code above works<br>\n",
    "\n",
    "<details class=\"details-example\"><summary style=\"color:blue\"><u>Further Guidance</u></summary>\n",
    "    \n",
    "> _ChatBots typically explain code fairly effectively, so a ChatBot will probably be very helpful if you share the full Monte Hall problem code; but, you can always introduce more specific and targetted follow-up prompts that help with focus, re-redirection, and response format regarding the ChatBot responses as needed._ \n",
    ">\n",
    "> _ChatBots won't always re-introduce and re-explain the Monte Hall problem itself, so if you need it to do so you may need to specifically request this as part of your prompt or follow up interactions._\n",
    "\n",
    "</details>\n"
   ]
  },
  {
   "cell_type": "markdown",
   "id": "c7060517",
   "metadata": {},
   "source": [
    "#### 2. Extend your ChatBot sessions to now address part \"3(b)\" of the **TUT Demo** and interact with your ChatBot to see if it can suggest a simpler, more streamlined way to code up this *for* loop simulation so the process is more clear and easier to understand; then, describe any preferences you have in terms of readibility or explainability  between the original code and the code improvements suggested by the ChatBot<br>\n",
    "\n",
    "<details class=\"details-example\"><summary style=\"color:blue\"><u>Further Guidance</u></summary>\n",
    "    \n",
    "> _The links in the TUT Demo show that there can be variation in the quality of the code improvements suggested by ChatBots; however, it's most likely that a ChatBot is going to be able to greatly reduce the number of steps/lines of code and hence complexity of understanding the problem. ChatBots can provide a good amount of explanation and inline clarifying code comments and provide more simpler more intuitive code that can transform something that looks a bit scary at first to something that's easy to follow and make sense of. Of course, in doing so, a ChatBot may introduce functions that you've technically not learned or seen before; but, the amount of simplification and clarifying comments is probably going to more than compensate for this; and, you'll have seen a learned a little bit more about what's possible through this process, which is the ideal experience we're hoping you'll see here._ \n",
    "    \n",
    "</details>\n",
    "        "
   ]
  },
  {
   "cell_type": "markdown",
   "id": "1a2a218c",
   "metadata": {},
   "source": [
    "#### 3. Submit your preferred version of the Monty Hall problem that is verified to be running and working with a final printed output of the code; then, add code comments explaining the purpose of each line of the code<br>\n",
    "\n",
    "<details class=\"details-example\"><summary style=\"color:blue\"><u>Further Guidance</u></summary>\n",
    "    \n",
    "> _Your ChatBot will likely do much of this for you, but verify for yourself that you understand each comment and reword comments wherever you think it would be better to explain it differently._\n",
    ">\n",
    "> _Remember to ask for summaries of your current session and paste these into your homework notebook  (including link(s) to chat log histories if you're using ChatGPT)_\n",
    "\n",
    "</details>\n",
    " "
   ]
  },
  {
   "cell_type": "code",
   "execution_count": null,
   "id": "bc8c33b4",
   "metadata": {},
   "outputs": [],
   "source": [
    "import numpy as np #import a pachage\n",
    "\n",
    "# Initialize variables\n",
    "all_doors = [1, 2, 3] #three door available \n",
    "my_door_choice = 1 #the player choose one door\n",
    "wins = 0 #Initializes a variable wins to zero. This will be used to count how many times the player wins after switching doors.\n",
    "reps = 100000 #Sets the number of repetitions (iterations) for the simulation. Here, we run the simulation 100,000 times to get reliable results\n",
    "\n",
    "for _ in range(reps): #Starts a loop that runs reps times (100,000 iterations). \n",
    "    # Randomly select the winning door\n",
    "    winning_door = np.random.choice(all_doors)\n",
    "\n",
    "    # Monty reveals a losing door (not my door and not the winning door)\n",
    "    reveal_options = [door for door in all_doors if door != my_door_choice and door != winning_door] #Creates a list of doors Monty Hall can reveal. Monty reveals a \"losing\" door (with a goat) that is: Not the player's initial choice (my_door_choice), and Not the door with the car (winning_door).\n",
    "    revealed_door = np.random.choice(reveal_options) #Randomly picks one door from the reveal_options list. This simulates Monty revealing a goat behind one of the remaining doors.\n",
    "\n",
    "    # Swap my choice to the remaining door\n",
    "    remaining_door = [door for door in all_doors if door != my_door_choice and door != revealed_door][0] #Determines the remaining unopened door after Monty reveals a losing door.\n",
    "    my_door_choice = remaining_door # Switches the player’s choice to the remaining door (the only door that hasn't been opened yet). This step simulates the player's decision to switch after Monty reveals a goat.\n",
    "\n",
    "    # Check if the new choice wins\n",
    "    if my_door_choice == winning_door: #Checks if the player's new choice (after switching) is the same as the winning door (the one with the car).\n",
    "        wins += 1 #If the player's new choice is the winning door, increments the wins counter by 1. This tracks how many times the player wins by switching doors.\n",
    "\n",
    "# Calculate win rate\n",
    "win_rate = wins / reps # After the loop finishes, calculates the win rate by dividing the total number of wins (wins) by the number of repetitions (reps). This gives the percentage of games the player wins by using the switching strategy.\n",
    "win_rate #This outputs the calculated win rate, which should be approximately 2/3 or 66.67%, as the switching strategy gives a higher chance of winning compared to sticking with the initial choice.\n"
   ]
  },
  {
   "cell_type": "markdown",
   "id": "4143c442",
   "metadata": {},
   "source": [
    "Here's a summary of our conversation:\n",
    "\n",
    "Original Code: You shared a Python simulation of the Monty Hall problem where the player always switches doors. The code was functional, but you asked for simplification and better clarity.\n",
    "Monty Hall Problem: The simulation involves choosing one of three doors, revealing a goat behind one of the remaining doors, and then switching to the other door. The goal is to test the strategy of always switching.\n",
    "Win Rate: The original code gave a win rate of around 66.66%, matching the theoretical probability of winning by switching (2/3).\n",
    "Simplified Code: I provided a more streamlined version of the code that avoids unnecessary list operations and uses list comprehensions for clarity. This version is easier to follow, but still produces the same result.\n",
    "Detailed Explanation: I explained the original and simplified code step-by-step, covering each line to show how the simulation works.\n",
    "In short, we improved the readability of the Monty Hall simulation while preserving the core logic and verified that the switching strategy gives the expected 66.67% win rate."
   ]
  },
  {
   "cell_type": "markdown",
   "id": "f4c80a20",
   "metadata": {},
   "source": [
    "https://chatgpt.com/share/66ecd37f-2ee0-8007-8e8b-d438994b8901"
   ]
  },
  {
   "cell_type": "markdown",
   "id": "36889814",
   "metadata": {},
   "source": [
    "#### 4. Watch the embedded video tutorial on Markov chains in the next Jupyter cell below to understand their application and relevance for ChatBots; then, after watching the video, start a new ChatBot session by prompting that you have code that creates a \"Markovian ChatBot\"; show it the first version of the \"Markovian ChatBot code\" below; and interact with the ChatBot session to make sure you understand how the original first version of the \"Markovian ChatBot code\" works<br>\n",
    "\n",
    "<details class=\"details-example\"><summary style=\"color:blue\"><u>Further Guidance</u></summary>\n",
    "\n",
    "> _If the ChatBot prompts you as to how you will \"train\" your own \"Markovian ChatBot\" you can reply that you'll just use a series of stories with a lot of different characters_\n",
    "> \n",
    "> _Ask for summaries of this second ChatBot session and paste these into your homework notebook (including link(s) to chat log histories if you're using ChatGPT)_\n",
    "    \n",
    "</details>\n",
    "    "
   ]
  },
  {
   "cell_type": "markdown",
   "id": "4fb5070e",
   "metadata": {},
   "source": [
    "We discussed your implementation of a Markovian chatbot using Python. You provided code that tracks word frequencies (word_used) and the next words that follow each word (next_word). I explained how the code works step by step, showing how it builds a Markov chain to model word transitions in a sequence. I also provided a cleaned-up version of the code and a breakdown of the logic, along with an example to illustrate how the word counts and transitions are stored. Finally, we discussed how this can be extended for tasks like text generation."
   ]
  },
  {
   "cell_type": "markdown",
   "id": "56d98d61",
   "metadata": {},
   "source": [
    "https://chatgpt.com/share/66ecd46e-5a24-8007-938e-04e85f163552"
   ]
  },
  {
   "cell_type": "code",
   "execution_count": null,
   "id": "a52754504a625b36",
   "metadata": {},
   "outputs": [],
   "source": [
    "# Markov Chains and Text Generation\n",
    "from IPython.display import YouTubeVideo\n",
    "YouTubeVideo('56mGTszb_iM', width = 550)"
   ]
  },
  {
   "cell_type": "markdown",
   "id": "7a17e608",
   "metadata": {},
   "source": [
    "<details class=\"details-example\"><summary style=\"color:blue\"><u>Continue now...?</u></summary>\n",
    "\n",
    "### Pre-lecture VS Post-lecture HW\n",
    "\n",
    "Feel free to work on the \"Post-lecture\" HW below if you're making good progress and want to continue: for **HW 02** continuing could be reasonable because questions \"5-7\" below directly follow up and extend \"Pre-lecture\" HW question \"4\"\n",
    "\n",
    "*The benefits of continue would are that (a) it might be fun to try to tackle the challenge of working through some problems without additional preparation or guidance; and (b) this is a very valable skill to be comfortable with; and (c) it will let you build experience interacting with ChatBots (and beginning to understand their strengths and limitations in this regard)... it's good to have sense of when using a ChatBot is the best way to figure something out, or if another approach (such as course provided resources or a plain old websearch for the right resourse) would be more effective*\n",
    "    \n",
    "</details>    "
   ]
  },
  {
   "cell_type": "markdown",
   "id": "d6ae0a64",
   "metadata": {},
   "source": [
    "### \"Post-lecture\" HW [*submission along with \"Pre-lecture\" HW is due prior to next TUT*]"
   ]
  },
  {
   "cell_type": "markdown",
   "id": "69f81b8e",
   "metadata": {},
   "source": [
    "#### 5. Recreate (or resume) the previous ChatBot session from question \"4\" above, and now  prompt the ChatBot session that you have a couple extensions of the code to show it, and then show it each of the extentions of the \"Markovian ChatBot code\" below in turn\n",
    "\n",
    "\n",
    "\n",
    "1. Without just supplying your ChatBot session with the answers, see if the ChatBot can figure out what the extensions in the code do; namely, making character specific Markov chains, and using bigrams (rather than just the previous word alone) dependency... prompt your ChatBot session with some hints if it's not seeming to \"get it\"<br><br>\n",
    "    \n",
    "2. Interact with your ChatBot session to have it explain details of the code wherever you need help understanding what the code is doing and how it works<br><br>\n",
    "    \n",
    "3. Start yet another new ChatBot session and first show the ChatBot the original \"Markovian ChatBot code\" below, and then tell ChatBot that you have an extension but this time just directly provide it the more complicated final extension without ever providing the intermediate extension code to the ChatBot session and see if it's still able to understand everything extension does; namely, making character specific Markov chains, and using bigrams (rather than just the previous word alone) dependency... prompt the ChatBot with some hints if it's not seeming to understand what you're getting at...<br><br>\n",
    "    \n",
    "<details class=\"details-example\"><summary style=\"color:blue\"><u>Further Guidance</u></summary>\n",
    "\n",
    "> **ALERT: Time Warning**. Regarding the comments below (which will likely be relevant and useful for you), you might find the potential learning experience that this provides to be a quite the rabbit total rabbit hole and time sink. You might end up finding out that you spent way more time than I should on learning the code!! So be mindful of your time management as there is much to do for many classes!\n",
    ">    \n",
    "> _As you may or may not have already experienced in the previous problem, a ChatBot applied to this problem is likely to start explaining a bit more knowledge about Python than you need to know (as a student just trying to learn stats+DS); however, you'll probably feel like this \"out of scope\" context information is helpful to know (or at least be aware of) and easy to understand and learn if you use some addtional prompts to dig deeper into them. A ChatBot will be quite good at explaining and helping understand smaller chunks of code; however, if given too much information at once it can gloss over some information._\n",
    ">   \n",
    "> _That said, some topics here are potentially quite and advanced and too tricky! You might be able to ask the ChatBot to simplify its explanations and that might help a bit. But on the other hand, some topics, such as, \"how does `nested_dict = lambda: defaultdict(nested_dict)` work?\" might just simply be too advanced to really admit a simpler explanation via a ChatBot. You'll have to let these sorts of things go, if you come across explanations that just aren't improving or helping at at. In the case of `defaultdict(nested_dict)` specifically, the details here are well beyond the scope of STA130 and can be very safely ignored for now. The code will have reviewed and \"walked thorugh\" in LEC, but the perspectives espoused there will be the extent of the formal commentary and information regarding the coding topics we encounter in the Markov ChatBots code here._\n",
    ">     \n",
    "> _Unlike with the Monte Hall problem, we will not inquire with the ChatBot to see if it can suggest any streamlining, readability, or usability improvements to the alternative versions of the \"Markovian ChatBot code\" we're examining_\n",
    ">     \n",
    "> - _because doing so seems to result in the attempted creation of dubiously functional modular code with a focus on reusability (which is likely a result of ChatBot design being primarily a \"computer science\" topic), so ChatBot reponses here tend to orient around programming and system design principles (despite \"Markovian\" very much being a \"statistics\" topic)_\n",
    ">     \n",
    "> _Programming and system design principles are beyond the scope of STA130; but, they are critical for modern data science careers... if you are interested in pursuing a data science career, it is imperitive that you complete courses like CSC263, CSC373, and perhaps an additional \"systems design\" course_\n",
    "> \n",
    "> ---\n",
    "> \n",
    "> _Don't forget to ask for summaries of all your different ChatBot sessions and organize and paste these into your homework notebook (including link(s) to chat log histories if you're using ChatBot)_\n",
    "    \n",
    "</details>\n",
    "     "
   ]
  },
  {
   "cell_type": "markdown",
   "id": "7862aec0",
   "metadata": {},
   "source": [
    "In our conversation, we discussed your Markovian chatbot extension, focusing on two key features:\n",
    "\n",
    "Bigrams Dependency: You are using pairs of consecutive words (bigrams) to enhance the model's context awareness when predicting the next word, resulting in more coherent text generation.\n",
    "Character-Specific Markov Chains: We touched on the idea of tracking word pairs for individual characters, allowing each character to have a distinct dialogue style by including a character identifier in your keys."
   ]
  },
  {
   "cell_type": "markdown",
   "id": "6070807f",
   "metadata": {},
   "source": [
    "https://chatgpt.com/share/66ece109-a904-8007-b842-0a39bda99e58"
   ]
  },
  {
   "cell_type": "markdown",
   "id": "82d05914",
   "metadata": {},
   "source": [
    "Here’s a summary of our conversation:\n",
    "\n",
    "Markovian Chatbot Code: You shared a code snippet for a Markov chain-based chatbot that tracks word usage and transitions between words.\n",
    "Extension of the Code: You presented an extension that creates character-specific Markov chains using bigrams (two-word combinations) instead of single words. This involves:\n",
    "Counting how often characters from a dataset use specific word combinations.\n",
    "Tracking the subsequent words that follow those bigrams.\n",
    "Functionality Explained:\n",
    "The character-specific model allows the chatbot to mimic the speech patterns of individual characters.\n",
    "By using bigrams, the model captures more context, leading to more coherent and natural responses.\n",
    "Overall Impact: The integration of character context with bigram tracking enhances the chatbot's ability to generate engaging and character-appropriate dialogue."
   ]
  },
  {
   "cell_type": "markdown",
   "id": "c7f7418b",
   "metadata": {},
   "source": [
    "https://chatgpt.com/share/66ece243-ad14-8007-b090-f51b20fe3c08"
   ]
  },
  {
   "cell_type": "markdown",
   "id": "b82eb15a",
   "metadata": {},
   "source": [
    "#### 6. Report on your experience interacting with ChatBots to understand the Monte Hall problem and \"Markovian ChatBot\" code\n",
    "\n",
    "1. Discuss how quickly the ChatBot was able to be helpful for each of the above questions, and if so, how?<br><br>\n",
    "    \n",
    "2. Discuss whether or not interacting with ChatBot to try to figure things out was frustrating or unhelpful, and if so, how?<br><br>\n",
    "    \n",
    "3. Based on your experiences to date (e.g., including using ChatBots to troubleshoot coding errors in the previous homework), provide an overall assessment evaluating the usefulness of ChatBots as tools to help you understand code<br>"
   ]
  },
  {
   "cell_type": "markdown",
   "id": "eaa3198d",
   "metadata": {},
   "source": [
    "1. ChatBot can give the answer of my questions immediatly, it shows the answer by several steps: first, explain the question meaning. Second, give code and expian some of essential code. Third, make a conclusion of what is this code doing and meaning. "
   ]
  },
  {
   "cell_type": "markdown",
   "id": "528d11d5",
   "metadata": {},
   "source": [
    "2. Comunicate with ChatBot is not frustrating and it is helpful because Chatbot can shows the answer very quikly and gives detial and explaination of each step if I needed. In addition, Chatbot can make summaries for our conversation so that I can easy to understand what is going on which is convenient to making note."
   ]
  },
  {
   "cell_type": "markdown",
   "id": "c6a7e09a",
   "metadata": {},
   "source": [
    "3. Chatbot is an useful toos to help me understand code base on my experience during this course. Chatbot can remember what I ask previouly, in this case I can access previous solutions if I habe anything missed. Furthermore, I can comunicate with Chatbot is I have any misunderstanding, Chatbot can solve my problem really quick."
   ]
  },
  {
   "cell_type": "markdown",
   "id": "eb11d913",
   "metadata": {},
   "source": [
    "#### 7. Reflect on your experience interacting with ChatBot and describe how your perception of AI-driven assistance tools in the context of learning coding, statistics, and data science has been evolving (or not) since joining the course<br><br>\n",
    "\n",
    "<details class=\"details-example\"><summary style=\"color:blue\"><u>Further Guidance</u></summary>\n",
    "    \n",
    "> _Question \"7\" and the next question \"8\" are somewhat related to the first bullet point in the suggested interactions of the \"Afterword\" to the Homework from last week... consider reviewing that if you'd like a little extra orienting around what these questions are trying to have you explore_\n",
    "   \n",
    "</details>"
   ]
  },
  {
   "cell_type": "markdown",
   "id": "2e3d637e",
   "metadata": {},
   "source": [
    "    After joining this course I start who touse Chatbot as a tool to help me understand class information systematicly, Chatbot surprised me at it can solve coing problems which I didn't find it out before, there are several factor that can influenced the experience of talk with Chatbot. Positive effect countain: it help me study more effciently because I can get the correct answer more straight forward compared to using google research since google research need me to overview many websites to find the most correctly solution. Also Chatbot is more interactive due to it can remember the conversation, so I can ask questions continuously and ask question if I have anything that I don't understand derictly, where Chatbot is very good at giving detial and examples. Furthermore, Chatbot is more comperahensive base on it can solve problems in vairable areas, it is very beneficial for this course combine code that data together. But Chatbot also have negative influences where it may let me rely on it, so lost the ability of self-studing and understanding. Overall, Chatbot is an essiencial and useful tool for study this couse base on it ability of comuication."
   ]
  },
  {
   "cell_type": "markdown",
   "id": "500f440e",
   "metadata": {},
   "source": [
    "#### 8. ChatBots consume text data available on the web or platforms, and thus represents a new way to \"search consensensus\" that condenses and summarizes mainstream human thought<br><br>\n",
    "\n",
    "1. Start a new ChatBot session and discuss the relevance of learning and adaptability, communication, coding, and statistics and data analysis as skills in the modern world, especially with respect to career opportunities (particularly in the context of the data science industry)<br><br>\n",
    "    \n",
    "2. See if ChatBot thinks you could be a statistician or data scientist without coding or doing data analysis, and then transition your ChatBot conversation into a career exploration discussion, using the ChatBot to identify the skills that might be the most valuable for a career that you're interested<br><br>\n",
    "    \n",
    "3. Ask for a summary of this ChatBot session and paste it into your homework notebook (including link(s) to chat log histories if you're using ChatBot)<br><br>\n",
    "    \n",
    "4. Paraphrase the assessments and conclusions of your conversation in the form of a reflection on your current thoughts regarding your potential future career(s) and how you can go about building the skills you need to pursue it<br><br>\n",
    "\n",
    "5. Give your thoughts regarding the helpfulness or limitations of your conversation with a ChatBot, and describe the next steps you would take to pursue this conversation further if you felt the information the ChatBot provides was somewhat high level and general, and perhaps lacked the depth and detailed knowledge of a dedicated subject matter expert who had really take the time to understand the ins and outs of the industry and career path in question.\n",
    "<br><br>\n",
    "\n",
    "<details class=\"details-example\"><summary style=\"color:blue\"><u>Further Guidance</u></summary>\n",
    "\n",
    "> _While question 8 is not a part of the rubric, it is nonetheless a very good exercise that will likely be valuable for you if you engage it them sincerely_\n",
    "    \n",
    "</details>\n"
   ]
  },
  {
   "cell_type": "markdown",
   "id": "393abf77",
   "metadata": {},
   "source": [
    "Skills in Data Science: We discussed the importance of key skills for success in data science and statistics, including:\n",
    "Learning and Adaptability: Essential for keeping up with rapid technological changes.\n",
    "Communication: Vital for conveying complex concepts to non-technical stakeholders.\n",
    "Coding: Fundamental for data manipulation and analysis.\n",
    "Statistics and Data Analysis: Crucial for interpreting data and making informed decisions.\n",
    "Career Exploration: We covered the process of career exploration, emphasizing the importance of self-assessment, researching career options, developing skills, gaining experience, setting goals, and utilizing available resources.\n",
    "Career Opportunities: Various roles in data science were discussed, including data scientist, statistician, data analyst, business intelligence analyst, machine learning engineer, data engineer, and quantitative analyst. Each role requires a different mix of the previously mentioned skills.\n",
    "Key Skills for Specific Careers:\n",
    "Professor: The most important skill is communication, essential for effectively teaching and engaging students.\n",
    "Actuary: The most important skill is analytical skills, crucial for assessing risk and interpreting complex data.\n",
    "This summary encapsulates the main points from our conversation regarding skills, career exploration, and the significance of specific abilities in different professional contexts. If you need anything more specific or detailed, feel free to ask!"
   ]
  },
  {
   "cell_type": "code",
   "execution_count": null,
   "id": "94d9b975",
   "metadata": {},
   "outputs": [],
   "source": [
    "https://chatgpt.com/share/66ecdfcc-0d24-8007-abcc-da19b18962f0"
   ]
  },
  {
   "cell_type": "markdown",
   "id": "b489452e",
   "metadata": {},
   "source": [
    "#### 9. Have you reviewed the course [wiki-textbook](https://github.com/pointOfive/stat130chat130/wiki) and interacted with a ChatBot (or, if that wasn't sufficient, real people in the course piazza discussion board or TA office hours) to help you understand all the material in the tutorial and lecture that you didn't quite follow when you first saw it?<br><br>\n",
    "  \n",
    "<details class=\"details-example\"><summary style=\"color:blue\"><u>Further Guidance</u></summary>\n",
    "    \n",
    "> _Just answering \"Yes\" or \"No\" or \"Somewhat\" or \"Mostly\" or whatever here is fine as this question isn't a part of the rubric; but, the midterm and final exams may ask questions that are based on the tutorial and lecture materials; and, your own skills will be limited by your familiarity with these materials (which will determine your ability to actually do actual things effectively with these skills... like the course project...)_\n",
    "    \n",
    "</details>"
   ]
  },
  {
   "cell_type": "markdown",
   "id": "4f926ee1",
   "metadata": {},
   "source": [
    "Yes"
   ]
  },
  {
   "cell_type": "code",
   "execution_count": null,
   "id": "16f95257fb4fda6c",
   "metadata": {},
   "outputs": [],
   "source": [
    "# Markovian Chatbot\n",
    "\n",
    "# from collections import defaultdict\n",
    "word_used = dict() # defaultdict(int)\n",
    "next_word = dict() # defaultdict(lambda: defaultdict(int))\n",
    "for i,word in enumerate(words[:-1]):\n",
    "\n",
    "    if word in word_used:\n",
    "        word_used[word] += 1\n",
    "    else:\n",
    "        word_used[word] = 1\n",
    "        next_word[word] = {}\n",
    "\n",
    "    if words[i+1] in next_word[word]:\n",
    "        next_word[word][words[i+1]] += 1\n",
    "    else:\n",
    "        next_word[word][words[i+1]] = 1"
   ]
  },
  {
   "cell_type": "code",
   "execution_count": null,
   "id": "bd0e5d2163411e8e",
   "metadata": {},
   "outputs": [],
   "source": [
    "# Markovian Chatbot Extension #1\n",
    "\n",
    "word_used2 = defaultdict(int)\n",
    "next_word2 = defaultdict(lambda: defaultdict(int))\n",
    "for i,word in enumerate(words[:-2]):\n",
    "    word_used2[word+' '+words[i+1]] += 1\n",
    "    next_word2[word+' '+words[i+1]][words[i+2]] += 1 "
   ]
  },
  {
   "cell_type": "code",
   "execution_count": null,
   "id": "33fe616edecddb60",
   "metadata": {},
   "outputs": [],
   "source": [
    "# Markovian Chatbot Extension #2\n",
    "\n",
    "from collections import Counter, defaultdict\n",
    "# `avatar` is a dataset, and `character` is one of it's columns\n",
    "characters = Counter(\"\\n\"+ avatar.character.str.upper().str.replace(' ','.')+\":\")\n",
    "# this code changes the type of the `character` column to `str`; then,\n",
    "# makes the text uppercase, and replaces spaces with '.'\n",
    "\n",
    "nested_dict = lambda: defaultdict(nested_dict)\n",
    "word_used2C = nested_dict()\n",
    "next_word2C = nested_dict()\n",
    "\n",
    "for i,word in enumerate(words[:-2]):\n",
    "    if word in characters:\n",
    "        character = word\n",
    "        \n",
    "    if character not in word_used2C:\n",
    "        word_used2C[character] = dict()\n",
    "    if word+' '+words[i+1] not in word_used2C[character]:\n",
    "        word_used2C[character][word+' '+words[i+1]] = 0\n",
    "    word_used2C[character][word+' '+words[i+1]] += 1\n",
    "    \n",
    "    if character not in next_word2C:\n",
    "        next_word2C[character] = dict()\n",
    "    if word+' '+words[i+1] not in next_word2C[character]:\n",
    "        next_word2C[character][word+' '+words[i+1]] = dict()\n",
    "    if words[i+2] not in next_word2C[character][word+' '+words[i+1]]:\n",
    "        next_word2C[character][word+' '+words[i+1]][words[i+2]] = 0\n",
    "    next_word2C[character][word+' '+words[i+1]][words[i+2]] += 1"
   ]
  },
  {
   "cell_type": "markdown",
   "id": "1ebfa9b9",
   "metadata": {},
   "source": [
    "## Recommended Additional Useful Activities [Optional]\n",
    "\n",
    "The \"Ethical Profesionalism Considerations\" and \"Current Course Project Capability Level\" sections below **are not a part of the required homework assignment**; rather, they are regular weekly guides covering (a) relevant considerations regarding professional and ethical conduct, and (b) the analysis steps for the STA130 course project that are feasible at the current stage of the course <br><br>\n",
    "\n",
    "\n",
    "<details class=\"details-example\"><summary style=\"color:blue\"><u>Ethical Professionalism Considerations</u></summary>\n",
    "\n",
    "### Ethical Professionalism Considerations\n",
    "\n",
    "    \n",
    "> 1. If you've not heard of the \"reproducibility crisis\" in science, have a ChatBot explain it to you\n",
    "> 2. If you've not heard of the \"open source software\" (versus proprietary software), have a ChatBot explain it to you\n",
    "> 3. \"Reproducibility\" can also be considered at the level of a given data analysis project: can others replicate the results of code or analysis that you've done?\n",
    ">    1. Discuss with a ChatBot how jupyter notebooks and github can be used facilitate transparency and reproducibility in data analysis\n",
    "> 4. Discuss with a ChatBot what the distinction is between replicability of scientific experiments, versus the replicability of a specific data analysis project, and what your responsibility as an analyst should be with respect to both\n",
    "> 5. Do you think proprietary (non \"open source software\") software, such as Microsoft Word, Outlook, and Copilot tends to result in high quality products?  \n",
    ">     1. Do you think software product monopolies (such as the UofT dependence on Microsoft products) makes the world a better place?\n",
    "</details>    \n",
    "\n",
    "<details class=\"details-example\"><summary style=\"color:blue\"><u>Current Course Project Capability Level</u></summary>\n",
    "\n",
    "### Current Course Project Capability Level\n",
    "   \n",
    "**Remember to abide by the [data use agreement](https://static1.squarespace.com/static/60283c2e174c122f8ebe0f39/t/6239c284d610f76fed5a2e69/1647952517436/Data+Use+Agreement+for+the+Canadian+Social+Connection+Survey.pdf) at all times.**\n",
    "\n",
    "Information about the course project is available on the course github repo [here](https://github.com/pointOfive/stat130chat130/tree/main/CP), including a draft [course project specfication](https://github.com/pointOfive/stat130chat130/blob/main/CP/STA130F23_course_project_specification.ipynb) (subject to change). \n",
    "- The Week 01 HW introduced [STA130F24_CourseProject.ipynb](https://github.com/pointOfive/stat130chat130/blob/main/CP/STA130F24_CourseProject.ipynb), and the [available variables](https://drive.google.com/file/d/1ISVymGn-WR1lcRs4psIym2N3or5onNBi/view). \n",
    "- Please do not download the [data](https://drive.google.com/file/d/1mbUQlMTrNYA7Ly5eImVRBn16Ehy9Lggo/view) accessible at the bottom of the [CSCS](https://casch.org/cscs) webpage (or the course github repo) multiple times.\n",
    "\n",
    "> At this point in the course you should be able to create a `for` loop to iterate through and provide **simple summaries** of some of the interesting columns in the course project data\n",
    ">\n",
    "> 1. Create two versions of the code, one for numeric and the other for categorical data,  which provide a printout format that displays relavent summaries and the missing data counts for a given set of (either numerical or categorical) columns being examined\n",
    ">\n",
    "> 2. Combine the two separate `for` loops into a single `for` loop using an `if`/`else` **conditional logic structure** that determines the correct printout format based on the data type of the column under consideration  \n",
    ">     1. *Being able to transform existing code so it's \"resuable\" for different purposes is one version of the programming design principle of \"polymorphism\" (which means \"many forms\" or \"many uses\") [as in the first task above]*\n",
    ">     2. *A better version of the programming design principle of \"polymorphism\" is when the same code can handle different use cases [as in the second tast above]*\n",
    ">     3. *Being able run your code with different subsets of columns as interest in different variables changes is a final form of the programming design principle of \"polymorphism\" that's demonstrated through this exercise*   \n",
    "    \n",
    "</details>        "
   ]
  }
 ],
 "metadata": {
  "kernelspec": {
   "display_name": "Python 3 (ipykernel)",
   "language": "python",
   "name": "python3"
  },
  "language_info": {
   "codemirror_mode": {
    "name": "ipython",
    "version": 3
   },
   "file_extension": ".py",
   "mimetype": "text/x-python",
   "name": "python",
   "nbconvert_exporter": "python",
   "pygments_lexer": "ipython3",
   "version": "3.11.6"
  }
 },
 "nbformat": 4,
 "nbformat_minor": 5
}
